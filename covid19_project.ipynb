{
 "cells": [
  {
   "cell_type": "code",
   "execution_count": 9,
   "metadata": {},
   "outputs": [],
   "source": [
    "import boto3\n",
    "import pandas as pd\n",
    "from io import StringIO\n",
    "import time"
   ]
  },
  {
   "cell_type": "code",
   "execution_count": null,
   "metadata": {},
   "outputs": [],
   "source": [
    "key = pd.read_csv('/Users/ha/Project/AWS/hahoang-local_accessKeys.csv')"
   ]
  },
  {
   "cell_type": "code",
   "execution_count": null,
   "metadata": {},
   "outputs": [],
   "source": [
    "AWS_ACCESS_KEY = key['Access key ID'][0]\n",
    "AWS_SECRET_KEY = key['Secret access key'][0]\n",
    "REDSHIFT_ENDPOINT = key['Endpoint Redshift'][0]\n",
    "REDSHIFT_USERNAME = key['User Redshift'][0]\n",
    "REDSHIFT_PASSWORD = key['Password Redshift'][0]\n",
    "AWS_REGION = 'ap-southeast-1'\n",
    "SCHEMA_NAME = 'covid_19_dataset'\n",
    "S3_STAGING_DIR = 's3://covid19-project-result/output/'\n",
    "S3_BUCKET_NAME = 'covid19-project-result'\n",
    "S3_OUTPUT_DIRECTORY = 'output'"
   ]
  },
  {
   "attachments": {},
   "cell_type": "markdown",
   "metadata": {},
   "source": [
    "## Create session object"
   ]
  },
  {
   "cell_type": "code",
   "execution_count": 4,
   "metadata": {},
   "outputs": [],
   "source": [
    "session = boto3.Session(\n",
    "    aws_access_key_id=AWS_ACCESS_KEY,\n",
    "    aws_secret_access_key=AWS_SECRET_KEY,\n",
    ")\n",
    "athena_client = session.client(\"athena\",region_name = AWS_REGION,)\n",
    "s3_client = session.client(\"s3\",region_name = AWS_REGION,)"
   ]
  },
  {
   "attachments": {},
   "cell_type": "markdown",
   "metadata": {},
   "source": [
    "## Read data from response\n",
    "- download file result query of athena that save into s3 and read this file by pandas"
   ]
  },
  {
   "cell_type": "code",
   "execution_count": 5,
   "metadata": {},
   "outputs": [],
   "source": [
    "#Gets the data from athena and converts it into pandas dataframe\n",
    "Dict = {}\n",
    "def download_and_load_query_results(\n",
    "    athena_client: boto3.client, s3_client:boto3.client, query_response: Dict\n",
    ") -> pd.DataFrame:\n",
    "    while True:\n",
    "        try:\n",
    "            athena_client.get_query_results(QueryExecutionId=query_response[\"QueryExecutionId\"])\n",
    "            break\n",
    "        except Exception as err:\n",
    "            if \"not yet finished\" in str(err):\n",
    "                time.sleep(0.01)\n",
    "            else:\n",
    "                raise err\n",
    "    temp_file_location = \"athena_query_results.csv\"\n",
    "    s3_client.download_file(S3_BUCKET_NAME,\n",
    "                           f\"{S3_OUTPUT_DIRECTORY}/{query_response['QueryExecutionId']}.csv\",\n",
    "                           temp_file_location,)\n",
    "    return pd.read_csv(temp_file_location)"
   ]
  },
  {
   "attachments": {},
   "cell_type": "markdown",
   "metadata": {},
   "source": [
    "## Get data from tables in athena into dataframe"
   ]
  },
  {
   "cell_type": "code",
   "execution_count": 6,
   "metadata": {},
   "outputs": [],
   "source": [
    "response = athena_client.start_query_execution(\n",
    "    QueryString=\"Select * from enigma_jhub\",\n",
    "    QueryExecutionContext={\"Database\":SCHEMA_NAME},\n",
    "    ResultConfiguration={\"OutputLocation\":S3_STAGING_DIR,\n",
    "                        \"EncryptionConfiguration\":{\"EncryptionOption\":\"SSE_S3\"},\n",
    "                        },\n",
    ")\n",
    "\n",
    "enigma_jhud = download_and_load_query_results(athena_client, s3_client, response)"
   ]
  },
  {
   "cell_type": "code",
   "execution_count": 7,
   "metadata": {},
   "outputs": [],
   "source": [
    "response = athena_client.start_query_execution(\n",
    "    QueryString=\"SELECT * FROM us_country\",\n",
    "    QueryExecutionContext={\"Database\":SCHEMA_NAME},\n",
    "    ResultConfiguration={\"OutputLocation\":S3_STAGING_DIR,\n",
    "                        \"EncryptionConfiguration\":{\"EncryptionOption\":\"SSE_S3\"},\n",
    "                        },\n",
    ")\n",
    "\n",
    "nytimes_data_in_usa_us_county = download_and_load_query_results(athena_client, s3_client, response)"
   ]
  },
  {
   "cell_type": "code",
   "execution_count": 8,
   "metadata": {},
   "outputs": [],
   "source": [
    "response = athena_client.start_query_execution(\n",
    "    QueryString=\"SELECT * FROM us_states\",\n",
    "    QueryExecutionContext={\"Database\":SCHEMA_NAME},\n",
    "    ResultConfiguration={\"OutputLocation\":S3_STAGING_DIR,\n",
    "                        \"EncryptionConfiguration\":{\"EncryptionOption\":\"SSE_S3\"},\n",
    "                        },\n",
    ")\n",
    "\n",
    "nytimes_data_in_usaus_states = download_and_load_query_results(athena_client, s3_client, response)"
   ]
  },
  {
   "cell_type": "code",
   "execution_count": 9,
   "metadata": {},
   "outputs": [],
   "source": [
    "response = athena_client.start_query_execution(\n",
    "    QueryString=\"SELECT * FROM countrypopulation\",\n",
    "    QueryExecutionContext={\"Database\":SCHEMA_NAME},\n",
    "    ResultConfiguration={\"OutputLocation\":S3_STAGING_DIR,\n",
    "                        \"EncryptionConfiguration\":{\"EncryptionOption\":\"SSE_S3\"},\n",
    "                        },\n",
    ")\n",
    "\n",
    "countypopulation = download_and_load_query_results(athena_client, s3_client, response)"
   ]
  },
  {
   "cell_type": "code",
   "execution_count": 10,
   "metadata": {},
   "outputs": [],
   "source": [
    "response = athena_client.start_query_execution(\n",
    "    QueryString=\"SELECT * FROM reatc_usa_hospital_beds\",\n",
    "    QueryExecutionContext={\"Database\":SCHEMA_NAME},\n",
    "    ResultConfiguration={\"OutputLocation\":S3_STAGING_DIR,\n",
    "                        \"EncryptionConfiguration\":{\"EncryptionOption\":\"SSE_S3\"},\n",
    "                        },\n",
    ")\n",
    "\n",
    "rearc_usa_hospital_beds = download_and_load_query_results(athena_client, s3_client, response)"
   ]
  },
  {
   "cell_type": "code",
   "execution_count": 11,
   "metadata": {},
   "outputs": [],
   "source": [
    "response = athena_client.start_query_execution(\n",
    "    QueryString=\"SELECT * FROM state_abv\",\n",
    "    QueryExecutionContext={\"Database\":SCHEMA_NAME},\n",
    "    ResultConfiguration={\"OutputLocation\":S3_STAGING_DIR,\n",
    "                        \"EncryptionConfiguration\":{\"EncryptionOption\":\"SSE_S3\"},\n",
    "                        },\n",
    ")\n",
    "\n",
    "state_abv = download_and_load_query_results(athena_client, s3_client, response)"
   ]
  },
  {
   "cell_type": "code",
   "execution_count": 12,
   "metadata": {},
   "outputs": [],
   "source": [
    "response = athena_client.start_query_execution(\n",
    "    QueryString=\"SELECT * FROM states_daily\",\n",
    "    QueryExecutionContext={\"Database\":SCHEMA_NAME},\n",
    "    ResultConfiguration={\"OutputLocation\":S3_STAGING_DIR,\n",
    "                        \"EncryptionConfiguration\":{\"EncryptionOption\":\"SSE_S3\"},\n",
    "                        },\n",
    ")\n",
    "\n",
    "states_daily = download_and_load_query_results(athena_client, s3_client, response)"
   ]
  },
  {
   "cell_type": "code",
   "execution_count": 13,
   "metadata": {},
   "outputs": [],
   "source": [
    "response = athena_client.start_query_execution(\n",
    "    QueryString=\"SELECT * FROM us_daily\",\n",
    "    QueryExecutionContext={\"Database\":SCHEMA_NAME},\n",
    "    ResultConfiguration={\"OutputLocation\":S3_STAGING_DIR,\n",
    "                        \"EncryptionConfiguration\":{\"EncryptionOption\":\"SSE_S3\"},\n",
    "                        },\n",
    ")\n",
    "\n",
    "us_daily = download_and_load_query_results(athena_client, s3_client, response)"
   ]
  },
  {
   "cell_type": "code",
   "execution_count": 14,
   "metadata": {},
   "outputs": [],
   "source": [
    "response = athena_client.start_query_execution(\n",
    "    QueryString=\"SELECT * FROM us_total_latest\",\n",
    "    QueryExecutionContext={\"Database\":SCHEMA_NAME},\n",
    "    ResultConfiguration={\"OutputLocation\":S3_STAGING_DIR,\n",
    "                        \"EncryptionConfiguration\":{\"EncryptionOption\":\"SSE_S3\"},\n",
    "                        },\n",
    ")\n",
    "\n",
    "us_total_latest = download_and_load_query_results(athena_client, s3_client, response)"
   ]
  },
  {
   "attachments": {},
   "cell_type": "markdown",
   "metadata": {},
   "source": [
    "## Building Dimensional Model"
   ]
  },
  {
   "cell_type": "code",
   "execution_count": 16,
   "metadata": {},
   "outputs": [
    {
     "name": "stderr",
     "output_type": "stream",
     "text": [
      "/Users/ha/miniforge3/envs/general_env/lib/python3.10/site-packages/pandas/core/reshape/merge.py:1204: RuntimeWarning: invalid value encountered in cast\n",
      "  if not (lk == lk.astype(rk.dtype))[~np.isnan(lk)].all():\n"
     ]
    }
   ],
   "source": [
    "factCovid_1 = enigma_jhud[\n",
    "    ['fips','province_state','country_region','confirmed','deaths','recovered','active']\n",
    "]\n",
    "factCovid_2 = states_daily[\n",
    "    ['fips','date','positive','negative','hospitalizedcurrently','hospitalized','hospitalizeddischarged']\n",
    "]\n",
    "factCovid = pd.merge(factCovid_1,factCovid_2,on='fips',how='inner')"
   ]
  },
  {
   "cell_type": "code",
   "execution_count": 17,
   "metadata": {},
   "outputs": [],
   "source": [
    "dimRegion_1 = enigma_jhud[['fips','province_state','country_region','latitude','longitude']]\n",
    "dimRegion_2 = nytimes_data_in_usa_us_county[['fips','county','state']]\n",
    "dimRegion = pd.merge(dimRegion_1,dimRegion_2,on='fips',how='inner')"
   ]
  },
  {
   "cell_type": "code",
   "execution_count": 18,
   "metadata": {},
   "outputs": [],
   "source": [
    "dimHospital = rearc_usa_hospital_beds[\n",
    "    ['fips','state_name','latitude','longtitude','hq_address','hospital_name',\\\n",
    "     'hospital_type','hq_city','hq_state']\n",
    "    ]"
   ]
  },
  {
   "cell_type": "code",
   "execution_count": 19,
   "metadata": {},
   "outputs": [],
   "source": [
    "dimDate = states_daily[['fips','date']]"
   ]
  },
  {
   "cell_type": "code",
   "execution_count": 20,
   "metadata": {},
   "outputs": [
    {
     "name": "stderr",
     "output_type": "stream",
     "text": [
      "/var/folders/y8/snwjrj_d75v27837y00p3vk80000gn/T/ipykernel_90092/572748324.py:1: SettingWithCopyWarning: \n",
      "A value is trying to be set on a copy of a slice from a DataFrame.\n",
      "Try using .loc[row_indexer,col_indexer] = value instead\n",
      "\n",
      "See the caveats in the documentation: https://pandas.pydata.org/pandas-docs/stable/user_guide/indexing.html#returning-a-view-versus-a-copy\n",
      "  dimDate['date'] = pd.to_datetime(dimDate['date'], format='%Y%m%d')\n"
     ]
    }
   ],
   "source": [
    "dimDate['date'] = pd.to_datetime(dimDate['date'], format='%Y%m%d')"
   ]
  },
  {
   "cell_type": "code",
   "execution_count": 21,
   "metadata": {},
   "outputs": [
    {
     "name": "stderr",
     "output_type": "stream",
     "text": [
      "/var/folders/y8/snwjrj_d75v27837y00p3vk80000gn/T/ipykernel_90092/935310350.py:1: SettingWithCopyWarning: \n",
      "A value is trying to be set on a copy of a slice from a DataFrame.\n",
      "Try using .loc[row_indexer,col_indexer] = value instead\n",
      "\n",
      "See the caveats in the documentation: https://pandas.pydata.org/pandas-docs/stable/user_guide/indexing.html#returning-a-view-versus-a-copy\n",
      "  dimDate['year'] = dimDate['date'].dt.year\n",
      "/var/folders/y8/snwjrj_d75v27837y00p3vk80000gn/T/ipykernel_90092/935310350.py:2: SettingWithCopyWarning: \n",
      "A value is trying to be set on a copy of a slice from a DataFrame.\n",
      "Try using .loc[row_indexer,col_indexer] = value instead\n",
      "\n",
      "See the caveats in the documentation: https://pandas.pydata.org/pandas-docs/stable/user_guide/indexing.html#returning-a-view-versus-a-copy\n",
      "  dimDate['month'] = dimDate['date'].dt.month\n",
      "/var/folders/y8/snwjrj_d75v27837y00p3vk80000gn/T/ipykernel_90092/935310350.py:3: SettingWithCopyWarning: \n",
      "A value is trying to be set on a copy of a slice from a DataFrame.\n",
      "Try using .loc[row_indexer,col_indexer] = value instead\n",
      "\n",
      "See the caveats in the documentation: https://pandas.pydata.org/pandas-docs/stable/user_guide/indexing.html#returning-a-view-versus-a-copy\n",
      "  dimDate['day_of_week'] = dimDate['date'].dt.dayofweek\n"
     ]
    }
   ],
   "source": [
    "dimDate['year'] = dimDate['date'].dt.year\n",
    "dimDate['month'] = dimDate['date'].dt.month\n",
    "dimDate['day_of_week'] = dimDate['date'].dt.dayofweek"
   ]
  },
  {
   "attachments": {},
   "cell_type": "markdown",
   "metadata": {},
   "source": [
    "## Saving to S3"
   ]
  },
  {
   "cell_type": "code",
   "execution_count": 22,
   "metadata": {},
   "outputs": [
    {
     "data": {
      "text/plain": [
       "{'ResponseMetadata': {'RequestId': 'A8YJE9HGRZ4HG5BF',\n",
       "  'HostId': 'bHx+HGFrIt+O0OVpTJn7CCqQxxg4wb4Tnskn9/msosuEyh9rVDJCnPGynkuwgGad8grPyGA6P8M=',\n",
       "  'HTTPStatusCode': 200,\n",
       "  'HTTPHeaders': {'x-amz-id-2': 'bHx+HGFrIt+O0OVpTJn7CCqQxxg4wb4Tnskn9/msosuEyh9rVDJCnPGynkuwgGad8grPyGA6P8M=',\n",
       "   'x-amz-request-id': 'A8YJE9HGRZ4HG5BF',\n",
       "   'date': 'Wed, 28 Jun 2023 09:50:07 GMT',\n",
       "   'x-amz-server-side-encryption': 'AES256',\n",
       "   'etag': '\"8ec89299f8b8c8e218cebfa5c9af6b49\"',\n",
       "   'server': 'AmazonS3',\n",
       "   'content-length': '0'},\n",
       "  'RetryAttempts': 1},\n",
       " 'ETag': '\"8ec89299f8b8c8e218cebfa5c9af6b49\"',\n",
       " 'ServerSideEncryption': 'AES256'}"
      ]
     },
     "execution_count": 22,
     "metadata": {},
     "output_type": "execute_result"
    }
   ],
   "source": [
    "csv_buffer = StringIO()\n",
    "factCovid.to_csv(csv_buffer)\n",
    "s3_resource = session.resource('s3')\n",
    "s3_resource.Object(S3_BUCKET_NAME,'result/factCovid.csv').put(Body=csv_buffer.getvalue())"
   ]
  },
  {
   "cell_type": "code",
   "execution_count": 28,
   "metadata": {},
   "outputs": [
    {
     "data": {
      "text/plain": [
       "{'ResponseMetadata': {'RequestId': '3KSD1ZDK1DJVF8YR',\n",
       "  'HostId': '+2W3SqJ3ZqW//CBc8UM0TUMfrW6xD815GIr7n3odAoov8bQM+LRryrNWrmY7ZIqH2MuaVW35kFU=',\n",
       "  'HTTPStatusCode': 200,\n",
       "  'HTTPHeaders': {'x-amz-id-2': '+2W3SqJ3ZqW//CBc8UM0TUMfrW6xD815GIr7n3odAoov8bQM+LRryrNWrmY7ZIqH2MuaVW35kFU=',\n",
       "   'x-amz-request-id': '3KSD1ZDK1DJVF8YR',\n",
       "   'date': 'Wed, 28 Jun 2023 09:55:38 GMT',\n",
       "   'x-amz-server-side-encryption': 'AES256',\n",
       "   'etag': '\"ac0232f9ecdbf1cbc70875c8fd97fa8c\"',\n",
       "   'server': 'AmazonS3',\n",
       "   'content-length': '0',\n",
       "   'connection': 'close'},\n",
       "  'RetryAttempts': 0},\n",
       " 'ETag': '\"ac0232f9ecdbf1cbc70875c8fd97fa8c\"',\n",
       " 'ServerSideEncryption': 'AES256'}"
      ]
     },
     "execution_count": 28,
     "metadata": {},
     "output_type": "execute_result"
    }
   ],
   "source": [
    "csv_buffer.truncate(0)\n",
    "dimRegion.to_csv(csv_buffer)\n",
    "s3_resource.Object(S3_BUCKET_NAME,'result/dimRegion.csv').put(Body=csv_buffer.getvalue())"
   ]
  },
  {
   "cell_type": "code",
   "execution_count": 25,
   "metadata": {},
   "outputs": [
    {
     "data": {
      "text/plain": [
       "{'ResponseMetadata': {'RequestId': '3B1199E66F263GR4',\n",
       "  'HostId': 'AenRUDAoIoDcJGc/gFWW/sDPfsYnJ47PXG15d7n3D/6HMsiglhnl0BODKUE1LPc7G2hk6LeTzUM=',\n",
       "  'HTTPStatusCode': 200,\n",
       "  'HTTPHeaders': {'x-amz-id-2': 'AenRUDAoIoDcJGc/gFWW/sDPfsYnJ47PXG15d7n3D/6HMsiglhnl0BODKUE1LPc7G2hk6LeTzUM=',\n",
       "   'x-amz-request-id': '3B1199E66F263GR4',\n",
       "   'date': 'Wed, 28 Jun 2023 09:50:54 GMT',\n",
       "   'x-amz-server-side-encryption': 'AES256',\n",
       "   'etag': '\"be6edb2409a04232f1d25e65b116e5e3\"',\n",
       "   'server': 'AmazonS3',\n",
       "   'content-length': '0'},\n",
       "  'RetryAttempts': 0},\n",
       " 'ETag': '\"be6edb2409a04232f1d25e65b116e5e3\"',\n",
       " 'ServerSideEncryption': 'AES256'}"
      ]
     },
     "execution_count": 25,
     "metadata": {},
     "output_type": "execute_result"
    }
   ],
   "source": [
    "csv_buffer.truncate(0)\n",
    "dimHospital.to_csv(csv_buffer)\n",
    "s3_resource.Object(S3_BUCKET_NAME,'result/dimHospital.csv').put(Body=csv_buffer.getvalue())"
   ]
  },
  {
   "cell_type": "code",
   "execution_count": 27,
   "metadata": {},
   "outputs": [
    {
     "data": {
      "text/plain": [
       "{'ResponseMetadata': {'RequestId': 'EFE0DK1FB241PADG',\n",
       "  'HostId': 'mhgwfUsw9w1/N+zRKH/1m54OiLLp8X0PmnM/3mqlmx/WbEiIw4rO+9hq8QzK5oPMYnjWMAEiusE=',\n",
       "  'HTTPStatusCode': 200,\n",
       "  'HTTPHeaders': {'x-amz-id-2': 'mhgwfUsw9w1/N+zRKH/1m54OiLLp8X0PmnM/3mqlmx/WbEiIw4rO+9hq8QzK5oPMYnjWMAEiusE=',\n",
       "   'x-amz-request-id': 'EFE0DK1FB241PADG',\n",
       "   'date': 'Wed, 28 Jun 2023 09:51:08 GMT',\n",
       "   'x-amz-server-side-encryption': 'AES256',\n",
       "   'etag': '\"b56d7bf50acaee462b4ab749379ac0d8\"',\n",
       "   'server': 'AmazonS3',\n",
       "   'content-length': '0'},\n",
       "  'RetryAttempts': 0},\n",
       " 'ETag': '\"b56d7bf50acaee462b4ab749379ac0d8\"',\n",
       " 'ServerSideEncryption': 'AES256'}"
      ]
     },
     "execution_count": 27,
     "metadata": {},
     "output_type": "execute_result"
    }
   ],
   "source": [
    "csv_buffer.truncate(0)\n",
    "dimDate.to_csv(csv_buffer)\n",
    "s3_resource.Object(S3_BUCKET_NAME,'result/dimDate.csv').put(Body=csv_buffer.getvalue())"
   ]
  },
  {
   "attachments": {},
   "cell_type": "markdown",
   "metadata": {},
   "source": [
    "## Extracting schema from dataset"
   ]
  },
  {
   "cell_type": "code",
   "execution_count": 29,
   "metadata": {},
   "outputs": [
    {
     "name": "stdout",
     "output_type": "stream",
     "text": [
      "CREATE TABLE \"dimDate\" (\n",
      "\"index\" INTEGER,\n",
      "  \"fips\" INTEGER,\n",
      "  \"date\" TIMESTAMP,\n",
      "  \"year\" INTEGER,\n",
      "  \"month\" INTEGER,\n",
      "  \"day_of_week\" INTEGER\n",
      ")\n"
     ]
    }
   ],
   "source": [
    "dimDatesql = pd.io.sql.get_schema(dimDate.reset_index(),'dimDate')\n",
    "print(''.join(dimDatesql))"
   ]
  },
  {
   "cell_type": "code",
   "execution_count": 30,
   "metadata": {},
   "outputs": [
    {
     "name": "stdout",
     "output_type": "stream",
     "text": [
      "CREATE TABLE \"factCovid\" (\n",
      "\"index\" INTEGER,\n",
      "  \"fips\" REAL,\n",
      "  \"province_state\" TEXT,\n",
      "  \"country_region\" TEXT,\n",
      "  \"confirmed\" REAL,\n",
      "  \"deaths\" REAL,\n",
      "  \"recovered\" REAL,\n",
      "  \"active\" REAL,\n",
      "  \"date\" INTEGER,\n",
      "  \"positive\" REAL,\n",
      "  \"negative\" REAL,\n",
      "  \"hospitalizedcurrently\" REAL,\n",
      "  \"hospitalized\" REAL,\n",
      "  \"hospitalizeddischarged\" REAL\n",
      ")\n"
     ]
    }
   ],
   "source": [
    "factCovidsql = pd.io.sql.get_schema(factCovid.reset_index(),'factCovid')\n",
    "print(''.join(factCovidsql))"
   ]
  },
  {
   "cell_type": "code",
   "execution_count": 31,
   "metadata": {},
   "outputs": [
    {
     "name": "stdout",
     "output_type": "stream",
     "text": [
      "CREATE TABLE \"dimRegion\" (\n",
      "\"index\" INTEGER,\n",
      "  \"fips\" REAL,\n",
      "  \"province_state\" TEXT,\n",
      "  \"country_region\" TEXT,\n",
      "  \"latitude\" REAL,\n",
      "  \"longitude\" REAL,\n",
      "  \"county\" TEXT,\n",
      "  \"state\" TEXT\n",
      ")\n"
     ]
    }
   ],
   "source": [
    "dimRegionsql = pd.io.sql.get_schema(dimRegion.reset_index(),'dimRegion')\n",
    "print(''.join(dimRegionsql))"
   ]
  },
  {
   "cell_type": "code",
   "execution_count": 32,
   "metadata": {},
   "outputs": [
    {
     "name": "stdout",
     "output_type": "stream",
     "text": [
      "CREATE TABLE \"dimHospital\" (\n",
      "\"index\" INTEGER,\n",
      "  \"fips\" REAL,\n",
      "  \"state_name\" TEXT,\n",
      "  \"latitude\" REAL,\n",
      "  \"longtitude\" REAL,\n",
      "  \"hq_address\" TEXT,\n",
      "  \"hospital_name\" TEXT,\n",
      "  \"hospital_type\" TEXT,\n",
      "  \"hq_city\" TEXT,\n",
      "  \"hq_state\" TEXT\n",
      ")\n"
     ]
    }
   ],
   "source": [
    "dimHospitalsql = pd.io.sql.get_schema(dimHospital.reset_index(),'dimHospital')\n",
    "print(''.join(dimHospitalsql))"
   ]
  },
  {
   "cell_type": "code",
   "execution_count": 36,
   "metadata": {},
   "outputs": [
    {
     "data": {
      "text/plain": [
       "'CREATE TABLE \"dimHospital\" (\"index\" INTEGER,  \"fips\" REAL,  \"state_name\" TEXT,  \"latitude\" REAL,  \"longtitude\" REAL,  \"hq_address\" TEXT,  \"hospital_name\" TEXT,  \"hospital_type\" TEXT,  \"hq_city\" TEXT,  \"hq_state\" TEXT)'"
      ]
     },
     "execution_count": 36,
     "metadata": {},
     "output_type": "execute_result"
    }
   ],
   "source": [
    "dimHospitalsql.replace('\\n','')"
   ]
  },
  {
   "attachments": {},
   "cell_type": "markdown",
   "metadata": {},
   "source": [
    "## Redshift Connector"
   ]
  },
  {
   "cell_type": "code",
   "execution_count": 20,
   "metadata": {},
   "outputs": [],
   "source": [
    "## if connect timeout -> enable publicly accessible in network and security of redshift group \n",
    "# then edit VPC security group -> add inbound rules for type Redshift and source 0.0.0.0/0\n",
    " \n",
    "import redshift_connector\n",
    "conn = redshift_connector.connect(\n",
    "    host='default.693798565576.ap-southeast-1.redshift-serverless.amazonaws.com',\n",
    "    database='dev',\n",
    "    port=5439,\n",
    "    user='admin',\n",
    "    password='Admin123.'\n",
    ")"
   ]
  },
  {
   "cell_type": "code",
   "execution_count": 21,
   "metadata": {},
   "outputs": [],
   "source": [
    "conn.autocommit = True\n",
    "cursor=redshift_connector.Cursor = conn.cursor()"
   ]
  },
  {
   "cell_type": "code",
   "execution_count": 22,
   "metadata": {},
   "outputs": [
    {
     "data": {
      "text/plain": [
       "<redshift_connector.cursor.Cursor at 0x13c3d9000>"
      ]
     },
     "execution_count": 22,
     "metadata": {},
     "output_type": "execute_result"
    }
   ],
   "source": [
    "cursor.execute(\"\"\"\n",
    "CREATE TABLE \"dimDate\" (\n",
    "\"index\" INTEGER,\n",
    "\"fips\" INTEGER,\n",
    "\"date\" TIMESTAMP,\n",
    "\"year\" INTEGER,\n",
    "\"month\" INTEGER,\n",
    "\"day_of_week\" INTEGER\n",
    ")\n",
    "\"\"\")"
   ]
  },
  {
   "cell_type": "code",
   "execution_count": 25,
   "metadata": {},
   "outputs": [
    {
     "data": {
      "text/plain": [
       "<redshift_connector.cursor.Cursor at 0x13c3d9000>"
      ]
     },
     "execution_count": 25,
     "metadata": {},
     "output_type": "execute_result"
    }
   ],
   "source": [
    "cursor.execute(\"\"\"\n",
    "CREATE TABLE \"dimHospital\" (\n",
    "\"index\" INTEGER,\n",
    "\"fips\" REAL,\n",
    "\"state_name\" TEXT,\n",
    "\"longitutde\" REAL,\n",
    "\"latitude\" REAL,\n",
    "\"hq_address\" TEXT,\n",
    "\"hospital_name\" TEXT,\n",
    "\"hospital_type\" TEXT,\n",
    "\"hq_city\" TEXT,\n",
    "\"hq_state\" TEXT\n",
    ")\n",
    "\"\"\")\n",
    "               \n",
    "cursor.execute(\"\"\"\n",
    "CREATE TABLE \"factCovid\" (\n",
    "\"index\" INTEGER,\n",
    "\"fips\" REAL,\n",
    "\"province_state\" TEXT,\n",
    "\"country_region\" TEXT,\n",
    "\"confirmed\" REAL,\n",
    "\"deaths\" REAL,\n",
    "\"recovered\" REAL,\n",
    "\"active\" REAL,\n",
    "\"date\" INTEGER,\n",
    "\"positive\" REAL,\n",
    "\"negative\" REAL,\n",
    "\"hospitalizedcurrently\" REAL,\n",
    "\"hospitalized\" REAL,\n",
    "\"hospitalizeddischarged\" REAL\n",
    ")\n",
    "\"\"\")\n",
    "               \n",
    "cursor.execute(\"\"\"\n",
    "CREATE TABLE \"dimRegion\" (\n",
    "\"index\" INTEGER,\n",
    "\"fips\" REAL,\n",
    "\"province_state\" TEXT,\n",
    "\"country_region\" TEXT,\n",
    "\"latitude\" REAL,\n",
    "\"longititude\" REAL,\n",
    "\"county\" TEXT,\n",
    "\"state\" TEXT\n",
    ")\n",
    "\"\"\")"
   ]
  },
  {
   "attachments": {},
   "cell_type": "markdown",
   "metadata": {},
   "source": [
    "## Copy data from S3 to Redshift"
   ]
  },
  {
   "cell_type": "code",
   "execution_count": 30,
   "metadata": {},
   "outputs": [
    {
     "data": {
      "text/plain": [
       "<redshift_connector.cursor.Cursor at 0x13c3d9000>"
      ]
     },
     "execution_count": 30,
     "metadata": {},
     "output_type": "execute_result"
    }
   ],
   "source": [
    "cursor.execute(\"\"\"\n",
    "copy dimDate from 's3://covid19-project-result/result/dimDate.csv' \n",
    "credentials 'aws_iam_role=arn:aws:iam::693798565576:role/redshift' \n",
    "delimiter ',' \n",
    "region 'ap-southeast-1' \n",
    "IGNOREHEADER 1\n",
    "\"\"\")"
   ]
  },
  {
   "cell_type": "code",
   "execution_count": 31,
   "metadata": {},
   "outputs": [
    {
     "data": {
      "text/plain": [
       "<redshift_connector.cursor.Cursor at 0x13c3d9000>"
      ]
     },
     "execution_count": 31,
     "metadata": {},
     "output_type": "execute_result"
    }
   ],
   "source": [
    "cursor.execute(\"\"\"\n",
    "copy dimHospital from 's3://covid19-project-result/result/dimHospital.csv' \n",
    "credentials 'aws_iam_role=arn:aws:iam::693798565576:role/redshift' \n",
    "delimiter ',' \n",
    "region 'ap-southeast-1' \n",
    "IGNOREHEADER 1\n",
    "\"\"\")\n",
    "               \n",
    "cursor.execute(\"\"\"\n",
    "copy factCovid from 's3://covid19-project-result/result/factCovid.csv' \n",
    "credentials 'aws_iam_role=arn:aws:iam::693798565576:role/redshift' \n",
    "delimiter ',' \n",
    "region 'ap-southeast-1' \n",
    "IGNOREHEADER 1\n",
    "\"\"\")\n",
    "               \n",
    "cursor.execute(\"\"\"\n",
    "copy dimRegion from 's3://covid19-project-result/result/dimRegion.csv' \n",
    "credentials 'aws_iam_role=arn:aws:iam::693798565576:role/redshift' \n",
    "delimiter ',' \n",
    "region 'ap-southeast-1' \n",
    "IGNOREHEADER 1\n",
    "\"\"\")"
   ]
  },
  {
   "cell_type": "code",
   "execution_count": null,
   "metadata": {},
   "outputs": [],
   "source": []
  }
 ],
 "metadata": {
  "kernelspec": {
   "display_name": "general_env",
   "language": "python",
   "name": "python3"
  },
  "language_info": {
   "codemirror_mode": {
    "name": "ipython",
    "version": 3
   },
   "file_extension": ".py",
   "mimetype": "text/x-python",
   "name": "python",
   "nbconvert_exporter": "python",
   "pygments_lexer": "ipython3",
   "version": "3.10.10"
  },
  "orig_nbformat": 4
 },
 "nbformat": 4,
 "nbformat_minor": 2
}
